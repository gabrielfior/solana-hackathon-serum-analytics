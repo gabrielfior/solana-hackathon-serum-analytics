{
 "cells": [
  {
   "cell_type": "code",
   "execution_count": null,
   "id": "eff23074",
   "metadata": {},
   "outputs": [],
   "source": [
    "from pyserum.connection import get_live_markets, get_token_mints\n",
    "from pyserum.connection import conn\n",
    "from pyserum.market import Market"
   ]
  },
  {
   "cell_type": "code",
   "execution_count": 5,
   "id": "f98dd502",
   "metadata": {},
   "outputs": [
    {
     "name": "stdout",
     "output_type": "stream",
     "text": [
      "tokens: \n"
     ]
    },
    {
     "data": {
      "text/plain": [
       "[TokenInfo(name='BTC', address=9n4nbM75f5Ui33ZbPYXn59EwSgE8CGsHtAeTH5YFeJ9E),\n",
       " TokenInfo(name='ETH', address=2FPyTwcZLUg1MDrwsyoP4D6s1tM7hAkHYRjkNb5w6Pxk)]"
      ]
     },
     "execution_count": 5,
     "metadata": {},
     "output_type": "execute_result"
    }
   ],
   "source": [
    "print(\"tokens: \")\n",
    "token_mints = get_token_mints()\n",
    "token_mints[:2]"
   ]
  },
  {
   "cell_type": "code",
   "execution_count": 7,
   "id": "1dbacd47",
   "metadata": {},
   "outputs": [
    {
     "name": "stdout",
     "output_type": "stream",
     "text": [
      "markets: \n"
     ]
    },
    {
     "data": {
      "text/plain": [
       "[MarketInfo(name='soALEPH/USDC', address='GcoKtAmTy5QyuijXSmJKBtFdt99e6Buza18Js7j9AJ6e', program_id='9xQeWvG816bUx9EPjHmaT23yvVM2ZWbrrpZb9PusVFin'),\n",
       " MarketInfo(name='BTC/USDC', address='A8YFbxQYFVqKZaoYJLLUVcQiWP7G2MeEgW5wsAQgMvFw', program_id='9xQeWvG816bUx9EPjHmaT23yvVM2ZWbrrpZb9PusVFin')]"
      ]
     },
     "execution_count": 7,
     "metadata": {},
     "output_type": "execute_result"
    }
   ],
   "source": [
    "print(\"markets: \")\n",
    "markets = get_live_markets()\n",
    "markets[:2]"
   ]
  },
  {
   "cell_type": "code",
   "execution_count": 14,
   "id": "a4d76649",
   "metadata": {},
   "outputs": [
    {
     "data": {
      "text/plain": [
       "[MarketInfo(name='BTC/USDC', address='A8YFbxQYFVqKZaoYJLLUVcQiWP7G2MeEgW5wsAQgMvFw', program_id='9xQeWvG816bUx9EPjHmaT23yvVM2ZWbrrpZb9PusVFin'),\n",
       " MarketInfo(name='BTC/USDT', address='C1EuT9VokAKLiW7i2ASnZUvxDoKuKkCpDDeNxAptuNe4', program_id='9xQeWvG816bUx9EPjHmaT23yvVM2ZWbrrpZb9PusVFin'),\n",
       " MarketInfo(name='renBTC/USDC', address='74Ciu5yRzhe8TFTHvQuEVbFZJrbnCMRoohBK33NNiPtv', program_id='9xQeWvG816bUx9EPjHmaT23yvVM2ZWbrrpZb9PusVFin')]"
      ]
     },
     "execution_count": 14,
     "metadata": {},
     "output_type": "execute_result"
    }
   ],
   "source": [
    "btc_markets = [i for i in markets if 'BTC' in i.name]\n",
    "btc_markets"
   ]
  },
  {
   "cell_type": "code",
   "execution_count": 19,
   "id": "94ad427e",
   "metadata": {},
   "outputs": [],
   "source": []
  },
  {
   "cell_type": "code",
   "execution_count": 22,
   "id": "3313ec3c",
   "metadata": {},
   "outputs": [],
   "source": [
    "def get_asks_bids(market_address):\n",
    "    # Load the given market\n",
    "    cc = conn(\"https://api.mainnet-beta.solana.com/\")\n",
    "    market = Market.load(cc, market_address)\n",
    "    asks = market.load_asks()\n",
    "    # Show all current ask order\n",
    "    #print(\"Ask Orders:\")\n",
    "    #for ask in asks:\n",
    "    #    print(\"Order id: %d, price: %f, size: %f.\" % (\n",
    "    #          ask.order_id, ask.info.price, ask.info.size))\n",
    "\n",
    "    #print(\"\\n\")\n",
    "    # Show all current bid order\n",
    "    #print(\"Bid Orders:\")\n",
    "    bids = market.load_bids()\n",
    "    \n",
    "    return asks, bids"
   ]
  },
  {
   "cell_type": "code",
   "execution_count": 23,
   "id": "f9cc98c8",
   "metadata": {},
   "outputs": [],
   "source": [
    "asks, bids = get_asks_bids(btc_markets[0].address)"
   ]
  },
  {
   "cell_type": "code",
   "execution_count": 27,
   "id": "95f734f3",
   "metadata": {},
   "outputs": [],
   "source": [
    "market_address = btc_markets[0].address\n",
    "market = Market.load(cc, market_address)"
   ]
  },
  {
   "cell_type": "code",
   "execution_count": 28,
   "id": "77888a99",
   "metadata": {},
   "outputs": [
    {
     "data": {
      "text/plain": [
       "<bound method Market.load of <class 'pyserum.market.market.Market'>>"
      ]
     },
     "execution_count": 28,
     "metadata": {},
     "output_type": "execute_result"
    }
   ],
   "source": [
    "market.load_event_queue()"
   ]
  },
  {
   "cell_type": "code",
   "execution_count": null,
   "id": "5bd94369",
   "metadata": {},
   "outputs": [],
   "source": []
  }
 ],
 "metadata": {
  "kernelspec": {
   "display_name": "Python 3 (ipykernel)",
   "language": "python",
   "name": "python3"
  },
  "language_info": {
   "codemirror_mode": {
    "name": "ipython",
    "version": 3
   },
   "file_extension": ".py",
   "mimetype": "text/x-python",
   "name": "python",
   "nbconvert_exporter": "python",
   "pygments_lexer": "ipython3",
   "version": "3.8.13"
  }
 },
 "nbformat": 4,
 "nbformat_minor": 5
}
