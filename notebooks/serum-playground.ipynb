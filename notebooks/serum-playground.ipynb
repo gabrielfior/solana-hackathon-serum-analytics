{
 "cells": [
  {
   "cell_type": "code",
   "execution_count": 60,
   "id": "eff23074",
   "metadata": {},
   "outputs": [],
   "source": [
    "from pyserum.connection import get_live_markets, get_token_mints\n",
    "from pyserum.connection import conn\n",
    "from pyserum.market import Market\n",
    "import dataclasses\n",
    "import pandas as pd\n",
    "import time"
   ]
  },
  {
   "cell_type": "code",
   "execution_count": 2,
   "id": "f98dd502",
   "metadata": {},
   "outputs": [
    {
     "name": "stdout",
     "output_type": "stream",
     "text": [
      "tokens: \n"
     ]
    },
    {
     "data": {
      "text/plain": [
       "[TokenInfo(name='BTC', address=9n4nbM75f5Ui33ZbPYXn59EwSgE8CGsHtAeTH5YFeJ9E),\n",
       " TokenInfo(name='ETH', address=2FPyTwcZLUg1MDrwsyoP4D6s1tM7hAkHYRjkNb5w6Pxk)]"
      ]
     },
     "execution_count": 2,
     "metadata": {},
     "output_type": "execute_result"
    }
   ],
   "source": [
    "print(\"tokens: \")\n",
    "token_mints = get_token_mints()\n",
    "token_mints[:2]"
   ]
  },
  {
   "cell_type": "code",
   "execution_count": 3,
   "id": "1dbacd47",
   "metadata": {},
   "outputs": [
    {
     "name": "stdout",
     "output_type": "stream",
     "text": [
      "markets: \n"
     ]
    },
    {
     "data": {
      "text/plain": [
       "[MarketInfo(name='soALEPH/USDC', address='GcoKtAmTy5QyuijXSmJKBtFdt99e6Buza18Js7j9AJ6e', program_id='9xQeWvG816bUx9EPjHmaT23yvVM2ZWbrrpZb9PusVFin'),\n",
       " MarketInfo(name='BTC/USDC', address='A8YFbxQYFVqKZaoYJLLUVcQiWP7G2MeEgW5wsAQgMvFw', program_id='9xQeWvG816bUx9EPjHmaT23yvVM2ZWbrrpZb9PusVFin')]"
      ]
     },
     "execution_count": 3,
     "metadata": {},
     "output_type": "execute_result"
    }
   ],
   "source": [
    "print(\"markets: \")\n",
    "markets = get_live_markets()\n",
    "markets[:2]"
   ]
  },
  {
   "cell_type": "code",
   "execution_count": 5,
   "id": "a4d76649",
   "metadata": {},
   "outputs": [
    {
     "data": {
      "text/plain": [
       "[MarketInfo(name='BTC/USDC', address='A8YFbxQYFVqKZaoYJLLUVcQiWP7G2MeEgW5wsAQgMvFw', program_id='9xQeWvG816bUx9EPjHmaT23yvVM2ZWbrrpZb9PusVFin'),\n",
       " MarketInfo(name='BTC/USDT', address='C1EuT9VokAKLiW7i2ASnZUvxDoKuKkCpDDeNxAptuNe4', program_id='9xQeWvG816bUx9EPjHmaT23yvVM2ZWbrrpZb9PusVFin'),\n",
       " MarketInfo(name='renBTC/USDC', address='74Ciu5yRzhe8TFTHvQuEVbFZJrbnCMRoohBK33NNiPtv', program_id='9xQeWvG816bUx9EPjHmaT23yvVM2ZWbrrpZb9PusVFin')]"
      ]
     },
     "execution_count": 5,
     "metadata": {},
     "output_type": "execute_result"
    }
   ],
   "source": [
    "btc_markets = [i for i in markets if 'BTC' in i.name]\n",
    "btc_markets"
   ]
  },
  {
   "cell_type": "code",
   "execution_count": 6,
   "id": "3313ec3c",
   "metadata": {},
   "outputs": [],
   "source": [
    "def get_asks_bids(market_address):\n",
    "    # Load the given market\n",
    "    cc = conn(\"https://api.mainnet-beta.solana.com/\")\n",
    "    market = Market.load(cc, market_address)\n",
    "    asks = market.load_asks()\n",
    "    # Show all current ask order\n",
    "    #print(\"Ask Orders:\")\n",
    "    #for ask in asks:\n",
    "    #    print(\"Order id: %d, price: %f, size: %f.\" % (\n",
    "    #          ask.order_id, ask.info.price, ask.info.size))\n",
    "\n",
    "    #print(\"\\n\")\n",
    "    # Show all current bid order\n",
    "    #print(\"Bid Orders:\")\n",
    "    bids = market.load_bids()\n",
    "    \n",
    "    return asks, bids"
   ]
  },
  {
   "cell_type": "code",
   "execution_count": 7,
   "id": "f9cc98c8",
   "metadata": {},
   "outputs": [],
   "source": [
    "asks, bids = get_asks_bids(btc_markets[0].address)"
   ]
  },
  {
   "cell_type": "code",
   "execution_count": 8,
   "id": "95f734f3",
   "metadata": {},
   "outputs": [
    {
     "ename": "NameError",
     "evalue": "name 'cc' is not defined",
     "output_type": "error",
     "traceback": [
      "\u001b[1;31m---------------------------------------------------------------------------\u001b[0m",
      "\u001b[1;31mNameError\u001b[0m                                 Traceback (most recent call last)",
      "Input \u001b[1;32mIn [8]\u001b[0m, in \u001b[0;36m<cell line: 2>\u001b[1;34m()\u001b[0m\n\u001b[0;32m      1\u001b[0m market_address \u001b[38;5;241m=\u001b[39m btc_markets[\u001b[38;5;241m0\u001b[39m]\u001b[38;5;241m.\u001b[39maddress\n\u001b[1;32m----> 2\u001b[0m market \u001b[38;5;241m=\u001b[39m Market\u001b[38;5;241m.\u001b[39mload(\u001b[43mcc\u001b[49m, market_address)\n",
      "\u001b[1;31mNameError\u001b[0m: name 'cc' is not defined"
     ]
    }
   ],
   "source": [
    "market_address = btc_markets[0].address\n",
    "market = Market.load(cc, market_address)"
   ]
  },
  {
   "cell_type": "code",
   "execution_count": null,
   "id": "77888a99",
   "metadata": {},
   "outputs": [],
   "source": [
    "market.load_event_queue()"
   ]
  },
  {
   "cell_type": "code",
   "execution_count": 10,
   "id": "5bd94369",
   "metadata": {},
   "outputs": [
    {
     "data": {
      "text/plain": [
       "[Order(order_id=3956402328697003537357690, client_id=8865951, open_order_address=2Kks7CKCJqZsVobHD2gLnvjmPxaD7ebdJnHLG6gm2dCu, open_order_slot=0, fee_tier=0, info=OrderInfo(price=21447.7, size=0.0013, price_lots=214477, size_lots=13), side=<Side.SELL: 1>),\n",
       " Order(order_id=3957582920317720948661116, client_id=8865953, open_order_address=2Kks7CKCJqZsVobHD2gLnvjmPxaD7ebdJnHLG6gm2dCu, open_order_slot=2, fee_tier=0, info=OrderInfo(price=21454.1, size=0.0026, price_lots=214541, size_lots=26), side=<Side.SELL: 1>),\n",
       " Order(order_id=3959556721933607870684030, client_id=8865955, open_order_address=2Kks7CKCJqZsVobHD2gLnvjmPxaD7ebdJnHLG6gm2dCu, open_order_slot=4, fee_tier=0, info=OrderInfo(price=21464.8, size=0.004, price_lots=214648, size_lots=40), side=<Side.SELL: 1>),\n",
       " Order(order_id=3961954798663190112393977, client_id=242010111408015274, open_order_address=2VQXsgEoBy3ivxhMrCCPVummu4cdGhuKjUCf5aj2Y388, open_order_slot=0, fee_tier=6, info=OrderInfo(price=21477.8, size=0.1401, price_lots=214778, size_lots=1401), side=<Side.SELL: 1>),\n",
       " Order(order_id=3962342180288738012978048, client_id=8865957, open_order_address=2Kks7CKCJqZsVobHD2gLnvjmPxaD7ebdJnHLG6gm2dCu, open_order_slot=6, fee_tier=0, info=OrderInfo(price=21479.9, size=0.0053, price_lots=214799, size_lots=53), side=<Side.SELL: 1>),\n",
       " Order(order_id=3966179103056069599714146, client_id=105151, open_order_address=L6A7qW935i2HgaiaRx6xNGCGQfFr4myFU51dUSnCshd, open_order_slot=1, fee_tier=6, info=OrderInfo(price=21500.7, size=0.0015, price_lots=215007, size_lots=15), side=<Side.SELL: 1>),\n",
       " Order(order_id=3967101440259755077294978, client_id=8865959, open_order_address=2Kks7CKCJqZsVobHD2gLnvjmPxaD7ebdJnHLG6gm2dCu, open_order_slot=8, fee_tier=0, info=OrderInfo(price=21505.7, size=0.0106, price_lots=215057, size_lots=106), side=<Side.SELL: 1>),\n",
       " Order(order_id=3967931543743072007115103, client_id=44, open_order_address=4aYVqqTME7gBVJmmNjRaiEmVyhDmSXwZ2q9A6iGiXnA5, open_order_slot=10, fee_tier=0, info=OrderInfo(price=21510.2, size=0.0001, price_lots=215102, size_lots=1), side=<Side.SELL: 1>),\n",
       " Order(order_id=3970108259543769734208250, client_id=242110111408015275, open_order_address=2VQXsgEoBy3ivxhMrCCPVummu4cdGhuKjUCf5aj2Y388, open_order_slot=1, fee_tier=6, info=OrderInfo(price=21522.0, size=0.9344, price_lots=215220, size_lots=9344), side=<Side.SELL: 1>),\n",
       " Order(order_id=3971417978373003112373142, client_id=1657990455641292322, open_order_address=9MiFG8Hds6J8AgHqSaS7B7orQfJK8rreiea6AK55SJj5, open_order_slot=1, fee_tier=6, info=OrderInfo(price=21529.1, size=3.0, price_lots=215291, size_lots=30000), side=<Side.SELL: 1>),\n",
       " Order(order_id=3976656853689936625032068, client_id=8865961, open_order_address=2Kks7CKCJqZsVobHD2gLnvjmPxaD7ebdJnHLG6gm2dCu, open_order_slot=10, fee_tier=0, info=OrderInfo(price=21557.5, size=0.0213, price_lots=215575, size_lots=213), side=<Side.SELL: 1>),\n",
       " Order(order_id=3979350078324698219568020, client_id=14426760795823284168, open_order_address=ozLM6VjzFApk6k3eD9S6xu27sqn1AHauxNJ5fnwgiCe, open_order_slot=16, fee_tier=4, info=OrderInfo(price=21572.1, size=0.8819, price_lots=215721, size_lots=8819), side=<Side.SELL: 1>),\n",
       " Order(order_id=3981323879940585141590935, client_id=11513421936722011848, open_order_address=ozLM6VjzFApk6k3eD9S6xu27sqn1AHauxNJ5fnwgiCe, open_order_slot=17, fee_tier=4, info=OrderInfo(price=21582.8, size=1.0822, price_lots=215828, size_lots=10822), side=<Side.SELL: 1>),\n",
       " Order(order_id=3982283110632418038107467, client_id=1657792876660, open_order_address=6AL7SBGB5eVNYhYwRBRKNEPVxzsKm6sEb3KmbzSwGpeR, open_order_slot=1, fee_tier=6, info=OrderInfo(price=21588.0, size=0.0025, price_lots=215880, size_lots=25), side=<Side.SELL: 1>),\n",
       " Order(order_id=3982984086907219001235583, client_id=45, open_order_address=4aYVqqTME7gBVJmmNjRaiEmVyhDmSXwZ2q9A6iGiXnA5, open_order_slot=4, fee_tier=0, info=OrderInfo(price=21591.8, size=0.0001, price_lots=215918, size_lots=1), side=<Side.SELL: 1>),\n",
       " Order(order_id=3983113214115734968097636, client_id=105153, open_order_address=L6A7qW935i2HgaiaRx6xNGCGQfFr4myFU51dUSnCshd, open_order_slot=3, fee_tier=6, info=OrderInfo(price=21592.5, size=0.0119, price_lots=215925, size_lots=119), side=<Side.SELL: 1>),\n",
       " Order(order_id=3991506482669272814082955, client_id=242210111408015446, open_order_address=2VQXsgEoBy3ivxhMrCCPVummu4cdGhuKjUCf5aj2Y388, open_order_slot=3, fee_tier=6, info=OrderInfo(price=21638.0, size=2.3345, price_lots=216380, size_lots=23345), side=<Side.SELL: 1>),\n",
       " Order(order_id=3998055076815439704906101, client_id=46, open_order_address=4aYVqqTME7gBVJmmNjRaiEmVyhDmSXwZ2q9A6iGiXnA5, open_order_slot=2, fee_tier=0, info=OrderInfo(price=21673.5, size=0.0001, price_lots=216735, size_lots=1), side=<Side.SELL: 1>),\n",
       " Order(order_id=4000065771919474046032742, client_id=105155, open_order_address=L6A7qW935i2HgaiaRx6xNGCGQfFr4myFU51dUSnCshd, open_order_slot=5, fee_tier=6, info=OrderInfo(price=21684.4, size=0.0014, price_lots=216844, size_lots=14), side=<Side.SELL: 1>),\n",
       " Order(order_id=4013107619979586699024927, client_id=47, open_order_address=4aYVqqTME7gBVJmmNjRaiEmVyhDmSXwZ2q9A6iGiXnA5, open_order_slot=12, fee_tier=0, info=OrderInfo(price=21755.1, size=0.0001, price_lots=217551, size_lots=1), side=<Side.SELL: 1>),\n",
       " Order(order_id=4017018329723213123967848, client_id=105157, open_order_address=L6A7qW935i2HgaiaRx6xNGCGQfFr4myFU51dUSnCshd, open_order_slot=7, fee_tier=6, info=OrderInfo(price=21776.3, size=0.0118, price_lots=217763, size_lots=118), side=<Side.SELL: 1>),\n",
       " Order(order_id=4017184350419876509932046, client_id=1657990093420789367, open_order_address=9MiFG8Hds6J8AgHqSaS7B7orQfJK8rreiea6AK55SJj5, open_order_slot=2, fee_tier=6, info=OrderInfo(price=21777.2, size=7.0, price_lots=217772, size_lots=70000), side=<Side.SELL: 1>),\n",
       " Order(order_id=4028160163143733693143962, client_id=48, open_order_address=4aYVqqTME7gBVJmmNjRaiEmVyhDmSXwZ2q9A6iGiXnA5, open_order_slot=15, fee_tier=0, info=OrderInfo(price=21836.7, size=0.0001, price_lots=218367, size_lots=1), side=<Side.SELL: 1>),\n",
       " Order(order_id=4050904998586617570286442, client_id=105159, open_order_address=L6A7qW935i2HgaiaRx6xNGCGQfFr4myFU51dUSnCshd, open_order_slot=9, fee_tier=6, info=OrderInfo(price=21960.0, size=0.0144, price_lots=219600, size_lots=144), side=<Side.SELL: 1>),\n",
       " Order(order_id=4101744225253761094540167, client_id=105161, open_order_address=L6A7qW935i2HgaiaRx6xNGCGQfFr4myFU51dUSnCshd, open_order_slot=11, fee_tier=6, info=OrderInfo(price=22235.6, size=0.0243, price_lots=222356, size_lots=243), side=<Side.SELL: 1>),\n",
       " Order(order_id=4150517416584649148834905, client_id=0, open_order_address=AGqsbPhM2z9HtddizdSYKXBatBPmyZ64eStZDVypCQcx, open_order_slot=0, fee_tier=0, info=OrderInfo(price=22500.0, size=0.4146, price_lots=225000, size_lots=4146), side=<Side.SELL: 1>),\n",
       " Order(order_id=4188148774495016632775475, client_id=1655922322675, open_order_address=6AL7SBGB5eVNYhYwRBRKNEPVxzsKm6sEb3KmbzSwGpeR, open_order_slot=2, fee_tier=5, info=OrderInfo(price=22704.0, size=0.002, price_lots=227040, size_lots=20), side=<Side.SELL: 1>),\n",
       " Order(order_id=4307056486794148404024436, client_id=16929038450284957896, open_order_address=ozLM6VjzFApk6k3eD9S6xu27sqn1AHauxNJ5fnwgiCe, open_order_slot=9, fee_tier=4, info=OrderInfo(price=23348.6, size=0.3766, price_lots=233486, size_lots=3766), side=<Side.SELL: 1>),\n",
       " Order(order_id=4509859991140511212958407, client_id=1655922406244, open_order_address=6AL7SBGB5eVNYhYwRBRKNEPVxzsKm6sEb3KmbzSwGpeR, open_order_slot=3, fee_tier=6, info=OrderInfo(price=24448.0, size=0.0016, price_lots=244480, size_lots=16), side=<Side.SELL: 1>),\n",
       " Order(order_id=4532180551469699770321345, client_id=0, open_order_address=Bu4c1JzfmrLyf4g3xVTYJvZshBc1DA3vD15zkxgVvJFw, open_order_slot=0, fee_tier=0, info=OrderInfo(price=24569.0, size=0.0149, price_lots=245690, size_lots=149), side=<Side.SELL: 1>),\n",
       " Order(order_id=4611686018427387937254133, client_id=0, open_order_address=B5t9MvP9nL8s1DR9Ci4CpvachR1HQVS4QMH5ifz4Y9U2, open_order_slot=0, fee_tier=0, info=OrderInfo(price=25000.0, size=0.746, price_lots=250000, size_lots=7460), side=<Side.SELL: 1>),\n",
       " Order(order_id=4724764559599227488387045, client_id=1653295594397, open_order_address=6AL7SBGB5eVNYhYwRBRKNEPVxzsKm6sEb3KmbzSwGpeR, open_order_slot=4, fee_tier=4, info=OrderInfo(price=25613.0, size=0.0015, price_lots=256130, size_lots=15), side=<Side.SELL: 1>),\n",
       " Order(order_id=4775124170920454564912584, client_id=0, open_order_address=B6LXtg1uWhuTsWumwbTSxn4vVdw7qrwTiHRAHbit1ofq, open_order_slot=0, fee_tier=0, info=OrderInfo(price=25886.0, size=0.002, price_lots=258860, size_lots=20), side=<Side.SELL: 1>),\n",
       " Order(order_id=4804638961438389847836542, client_id=0, open_order_address=FJavVMkQLKxWDJrEe2BG6GBXwZ7yq7cTybhjZBZVUiLu, open_order_slot=0, fee_tier=0, info=OrderInfo(price=26046.0, size=0.0591, price_lots=260460, size_lots=591), side=<Side.SELL: 1>),\n",
       " Order(order_id=5165088340638674485450325, client_id=1655099182271, open_order_address=5gZtd5P2xdP4thYaDNT4jYjLjQQnAv4nS3cCcAhTHkSH, open_order_slot=1, fee_tier=6, info=OrderInfo(price=28000.0, size=0.0037, price_lots=280000, size_lots=37), side=<Side.SELL: 1>),\n",
       " Order(order_id=5204010970634201639404173, client_id=1655125473313, open_order_address=AuR9skLqPFnq9QAYFSyDC3LN2gLyu9zog5qV7UmLxEHM, open_order_slot=1, fee_tier=4, info=OrderInfo(price=28211.0, size=0.0332, price_lots=282110, size_lots=332), side=<Side.SELL: 1>),\n",
       " Order(order_id=5349555781375770001751564, client_id=0, open_order_address=5eHRGUKzqCZkf5eikbB5mdFBJf6oDcfwTd3BkH4XqqFy, open_order_slot=1, fee_tier=0, info=OrderInfo(price=29000.0, size=0.0089, price_lots=290000, size_lots=89), side=<Side.SELL: 1>),\n",
       " Order(order_id=5407810599160544768049995, client_id=15579837343592194696, open_order_address=ozLM6VjzFApk6k3eD9S6xu27sqn1AHauxNJ5fnwgiCe, open_order_slot=14, fee_tier=4, info=OrderInfo(price=29315.8, size=0.672, price_lots=293158, size_lots=6720), side=<Side.SELL: 1>),\n",
       " Order(order_id=5534023222112865517636232, client_id=1654945301453, open_order_address=5gZtd5P2xdP4thYaDNT4jYjLjQQnAv4nS3cCcAhTHkSH, open_order_slot=0, fee_tier=6, info=OrderInfo(price=30000.0, size=0.0034, price_lots=300000, size_lots=34), side=<Side.SELL: 1>),\n",
       " Order(order_id=5534023222112865517765564, client_id=0, open_order_address=DFL8HmM6j4vgPqe5FoGPDpF38NEfg8GwHweyhtCLbUBj, open_order_slot=1, fee_tier=0, info=OrderInfo(price=30000.0, size=0.0349, price_lots=300000, size_lots=349), side=<Side.SELL: 1>),\n",
       " Order(order_id=5718490662849961033845316, client_id=0, open_order_address=DFL8HmM6j4vgPqe5FoGPDpF38NEfg8GwHweyhtCLbUBj, open_order_slot=0, fee_tier=0, info=OrderInfo(price=31000.0, size=0.0388, price_lots=310000, size_lots=388), side=<Side.SELL: 1>),\n",
       " Order(order_id=5758907479115458663930757, client_id=12275484478048664456, open_order_address=ozLM6VjzFApk6k3eD9S6xu27sqn1AHauxNJ5fnwgiCe, open_order_slot=28, fee_tier=4, info=OrderInfo(price=31219.1, size=0.8089, price_lots=312191, size_lots=8089), side=<Side.SELL: 1>),\n",
       " Order(order_id=5781689208046489960202766, client_id=17340649495583379656, open_order_address=ozLM6VjzFApk6k3eD9S6xu27sqn1AHauxNJ5fnwgiCe, open_order_slot=19, fee_tier=4, info=OrderInfo(price=31342.6, size=0.8377, price_lots=313426, size_lots=8377), side=<Side.SELL: 1>),\n",
       " Order(order_id=5902958103587056552048212, client_id=0, open_order_address=F9t2A7ktfEFEnZbMUKtmuvaYs2AAeEpUdLPHgM78tgya, open_order_slot=1, fee_tier=0, info=OrderInfo(price=32000.0, size=0.0047, price_lots=320000, size_lots=47), side=<Side.SELL: 1>),\n",
       " Order(order_id=5976745079881894756099214, client_id=0, open_order_address=21nEgmUZvXFxqJQ3auntxaNPTM4Jc8RwsBKQWBxLUUy3, open_order_slot=0, fee_tier=0, info=OrderInfo(price=32400.0, size=0.0083, price_lots=324000, size_lots=83), side=<Side.SELL: 1>),\n",
       " Order(order_id=6022861940066168634472116, client_id=0, open_order_address=Eex1MZ1cxGR6kMvbxu2gbKVS57C7fjmdAyu5hKcot9Fd, open_order_slot=0, fee_tier=0, info=OrderInfo(price=32650.0, size=0.0176, price_lots=326500, size_lots=176), side=<Side.SELL: 1>),\n",
       " Order(order_id=6050532056176732961373996, client_id=0, open_order_address=5eHRGUKzqCZkf5eikbB5mdFBJf6oDcfwTd3BkH4XqqFy, open_order_slot=0, fee_tier=0, info=OrderInfo(price=32800.0, size=0.0256, price_lots=328000, size_lots=256), side=<Side.SELL: 1>),\n",
       " Order(order_id=6057541818924742592317378, client_id=1654657098892, open_order_address=6wiuhU6hhA82SG7AsaiGeezZY3Bp4Eb3V9Sd28krNtPs, open_order_slot=8, fee_tier=4, info=OrderInfo(price=32838.0, size=0.2003, price_lots=328380, size_lots=2003), side=<Side.SELL: 1>),\n",
       " Order(order_id=6262485145583655710332081, client_id=0, open_order_address=9mP5VFm6BPXwSt31QKkcCcFAZT4wHc7n4b1Q47N9jZju, open_order_slot=0, fee_tier=0, info=OrderInfo(price=33949.0, size=0.002, price_lots=339490, size_lots=20), side=<Side.SELL: 1>),\n",
       " Order(order_id=6446952586320751226492174, client_id=0, open_order_address=9mP5VFm6BPXwSt31QKkcCcFAZT4wHc7n4b1Q47N9jZju, open_order_slot=1, fee_tier=0, info=OrderInfo(price=34949.0, size=0.0037, price_lots=349490, size_lots=37), side=<Side.SELL: 1>),\n",
       " Order(order_id=6854127568259742157638755, client_id=0, open_order_address=DG8f8bDW4yDMDgCCAGmTATzhFQvt5pZShJMCNS4cTBKp, open_order_slot=0, fee_tier=0, info=OrderInfo(price=37156.3, size=0.0013, price_lots=371563, size_lots=13), side=<Side.SELL: 1>),\n",
       " Order(order_id=6897975478922949763503487, client_id=0, open_order_address=9mP5VFm6BPXwSt31QKkcCcFAZT4wHc7n4b1Q47N9jZju, open_order_slot=2, fee_tier=0, info=OrderInfo(price=37394.0, size=0.0037, price_lots=373940, size_lots=37), side=<Side.SELL: 1>),\n",
       " Order(order_id=7268017165041563367101696, client_id=0, open_order_address=D3o8fShbVp7ktbF7JCsuAmWbbtu79vqfrXVyyTMtF6ZK, open_order_slot=0, fee_tier=0, info=OrderInfo(price=39400.0, size=0.0001, price_lots=394000, size_lots=1), side=<Side.SELL: 1>),\n",
       " Order(order_id=7932099951695107224668394, client_id=1651394546474, open_order_address=6AgWxR1rE1yo4ZYQLmkbhjcxz7XUAzfXCP5f9bLEATSi, open_order_slot=1, fee_tier=6, info=OrderInfo(price=43000.0, size=0.0004, price_lots=430000, size_lots=4), side=<Side.SELL: 1>),\n",
       " Order(order_id=8198286468678736053041986, client_id=0, open_order_address=J3D4AnHaNx46HiMKaNYWWrShS4sK3N4jS3fZgJhy3vro, open_order_slot=0, fee_tier=0, info=OrderInfo(price=44443.0, size=0.045, price_lots=444430, size_lots=450), side=<Side.SELL: 1>),\n",
       " Order(order_id=8614629482422360632373071, client_id=0, open_order_address=9N9uwJxF3rDdpEQ2UXqo8VnGCpqN2FoqeFWhZXojcVJ3, open_order_slot=0, fee_tier=0, info=OrderInfo(price=46700.0, size=0.0445, price_lots=467000, size_lots=445), side=<Side.SELL: 1>),\n",
       " Order(order_id=9103468200375663749183539, client_id=1648456368249, open_order_address=A3DdC9avn7XWHjVuNfBfQzBojP9r3r563uehyazrHM2g, open_order_slot=0, fee_tier=6, info=OrderInfo(price=49350.0, size=0.001, price_lots=493500, size_lots=10), side=<Side.SELL: 1>),\n",
       " Order(order_id=9465024384220370957180724, client_id=1644835491358, open_order_address=8ZBjqLQggQ6TQ9dV2Ze6zb2H1Jbchf8GcQ48LDigK2HE, open_order_slot=0, fee_tier=6, info=OrderInfo(price=51310.0, size=0.016, price_lots=513100, size_lots=160), side=<Side.SELL: 1>),\n",
       " Order(order_id=9592306918328966861273773, client_id=1640862889487, open_order_address=2ZiEekHsMM8PdaHhMoaGomNefMg6u3YXSUmfdWw2DCht, open_order_slot=1, fee_tier=5, info=OrderInfo(price=52000.0, size=0.5, price_lots=520000, size_lots=5000), side=<Side.SELL: 1>),\n",
       " Order(order_id=11862916646361875584146313, client_id=105163, open_order_address=L6A7qW935i2HgaiaRx6xNGCGQfFr4myFU51dUSnCshd, open_order_slot=13, fee_tier=6, info=OrderInfo(price=64309.0, size=2.0084, price_lots=643090, size_lots=20084), side=<Side.SELL: 1>),\n",
       " Order(order_id=11990383647911208567976190, client_id=0, open_order_address=3oJco6rgbRQUWYGzWuyCbJAMAcZ2v7zbV2EL3Sp4ifTb, open_order_slot=0, fee_tier=0, info=OrderInfo(price=65000.0, size=0.0002, price_lots=650000, size_lots=2), side=<Side.SELL: 1>),\n",
       " Order(order_id=11990383647911208582712231, client_id=0, open_order_address=2D88uiTQLzYXPFjXQUoJ6WiWQ52kfZTANVqA1QU8KxgJ, open_order_slot=0, fee_tier=0, info=OrderInfo(price=65000.0, size=0.0166, price_lots=650000, size_lots=166), side=<Side.SELL: 1>),\n",
       " Order(order_id=13700396823544084000823669, client_id=0, open_order_address=8N481L4s3jD2PNVCHi6dkDChSHEq1nkAFWPUkbwd38pa, open_order_slot=0, fee_tier=0, info=OrderInfo(price=74270.0, size=0.01, price_lots=742700, size_lots=100), side=<Side.SELL: 1>),\n",
       " Order(order_id=33019671891940097407924247, client_id=0, open_order_address=9xPZ8JWWL9Eni1JJvtUxKKZL67Ahwi9PHsSaa5euQVRt, open_order_slot=0, fee_tier=0, info=OrderInfo(price=179000.0, size=0.025, price_lots=1790000, size_lots=250), side=<Side.SELL: 1>)]"
      ]
     },
     "execution_count": 10,
     "metadata": {},
     "output_type": "execute_result"
    }
   ],
   "source": [
    "list(asks)"
   ]
  },
  {
   "cell_type": "code",
   "execution_count": 13,
   "id": "fc12064d",
   "metadata": {},
   "outputs": [],
   "source": [
    "a = list(asks)[0]"
   ]
  },
  {
   "cell_type": "code",
   "execution_count": 23,
   "id": "d3fdabc0",
   "metadata": {},
   "outputs": [
    {
     "data": {
      "text/plain": [
       "OrderInfo(price=21447.7, size=0.0013, price_lots=214477, size_lots=13)"
      ]
     },
     "execution_count": 23,
     "metadata": {},
     "output_type": "execute_result"
    }
   ],
   "source": [
    "a.info."
   ]
  },
  {
   "cell_type": "code",
   "execution_count": 25,
   "id": "f1ab5751",
   "metadata": {},
   "outputs": [
    {
     "data": {
      "text/plain": [
       "Order(order_id=3942438143433205335958686, client_id=105150, open_order_address=L6A7qW935i2HgaiaRx6xNGCGQfFr4myFU51dUSnCshd, open_order_slot=0, fee_tier=6, info=OrderInfo(price=21371.9, size=0.0016, price_lots=213719, size_lots=16), side=<Side.BUY: 0>)"
      ]
     },
     "execution_count": 25,
     "metadata": {},
     "output_type": "execute_result"
    }
   ],
   "source": [
    "list(bids)[-1]"
   ]
  },
  {
   "cell_type": "code",
   "execution_count": 26,
   "id": "5dba56fd",
   "metadata": {},
   "outputs": [],
   "source": [
    "for ask in asks:\n",
    "    ob"
   ]
  },
  {
   "cell_type": "code",
   "execution_count": 27,
   "id": "5cdcb00f",
   "metadata": {},
   "outputs": [
    {
     "data": {
      "text/plain": [
       "Order(order_id=33019671891940097407924247, client_id=0, open_order_address=9xPZ8JWWL9Eni1JJvtUxKKZL67Ahwi9PHsSaa5euQVRt, open_order_slot=0, fee_tier=0, info=OrderInfo(price=179000.0, size=0.025, price_lots=1790000, size_lots=250), side=<Side.SELL: 1>)"
      ]
     },
     "execution_count": 27,
     "metadata": {},
     "output_type": "execute_result"
    }
   ],
   "source": [
    "ask"
   ]
  },
  {
   "cell_type": "code",
   "execution_count": 66,
   "id": "8dd64207",
   "metadata": {},
   "outputs": [],
   "source": [
    "@dataclasses.dataclass\n",
    "class OrderContainer:\n",
    "    is_buy: bool\n",
    "    price:float\n",
    "    size: float\n",
    "    processing_time: int"
   ]
  },
  {
   "cell_type": "code",
   "execution_count": 42,
   "id": "d0705a4b",
   "metadata": {},
   "outputs": [],
   "source": [
    "a = OrderContainer('a',1, 1)"
   ]
  },
  {
   "cell_type": "code",
   "execution_count": 70,
   "id": "c997be50",
   "metadata": {},
   "outputs": [],
   "source": [
    "orders =[]\n",
    "processing_time = int(time.time())\n",
    "for ask in asks:\n",
    "    a = OrderContainer(is_buy=ask.side.name == 'BUY', price=ask.info.price, size=ask.info.price, \n",
    "                       processing_time=processing_time)\n",
    "    orders.append(a)    "
   ]
  },
  {
   "cell_type": "code",
   "execution_count": 71,
   "id": "bd2df0b0",
   "metadata": {},
   "outputs": [
    {
     "data": {
      "text/plain": [
       "OrderInfo(price=0.1, size=100.0, price_lots=1, size_lots=1000000)"
      ]
     },
     "execution_count": 71,
     "metadata": {},
     "output_type": "execute_result"
    }
   ],
   "source": [
    "list(bids)[0].info"
   ]
  },
  {
   "cell_type": "code",
   "execution_count": 73,
   "id": "4182c14f",
   "metadata": {},
   "outputs": [
    {
     "data": {
      "text/html": [
       "<div>\n",
       "<style scoped>\n",
       "    .dataframe tbody tr th:only-of-type {\n",
       "        vertical-align: middle;\n",
       "    }\n",
       "\n",
       "    .dataframe tbody tr th {\n",
       "        vertical-align: top;\n",
       "    }\n",
       "\n",
       "    .dataframe thead th {\n",
       "        text-align: right;\n",
       "    }\n",
       "</style>\n",
       "<table border=\"1\" class=\"dataframe\">\n",
       "  <thead>\n",
       "    <tr style=\"text-align: right;\">\n",
       "      <th></th>\n",
       "      <th>is_buy</th>\n",
       "      <th>price</th>\n",
       "      <th>size</th>\n",
       "      <th>processing_time</th>\n",
       "    </tr>\n",
       "  </thead>\n",
       "  <tbody>\n",
       "    <tr>\n",
       "      <th>0</th>\n",
       "      <td>False</td>\n",
       "      <td>21447.7</td>\n",
       "      <td>21447.7</td>\n",
       "      <td>1657993009</td>\n",
       "    </tr>\n",
       "    <tr>\n",
       "      <th>1</th>\n",
       "      <td>False</td>\n",
       "      <td>21454.1</td>\n",
       "      <td>21454.1</td>\n",
       "      <td>1657993009</td>\n",
       "    </tr>\n",
       "    <tr>\n",
       "      <th>2</th>\n",
       "      <td>False</td>\n",
       "      <td>21464.8</td>\n",
       "      <td>21464.8</td>\n",
       "      <td>1657993009</td>\n",
       "    </tr>\n",
       "    <tr>\n",
       "      <th>3</th>\n",
       "      <td>False</td>\n",
       "      <td>21477.8</td>\n",
       "      <td>21477.8</td>\n",
       "      <td>1657993009</td>\n",
       "    </tr>\n",
       "    <tr>\n",
       "      <th>4</th>\n",
       "      <td>False</td>\n",
       "      <td>21479.9</td>\n",
       "      <td>21479.9</td>\n",
       "      <td>1657993009</td>\n",
       "    </tr>\n",
       "  </tbody>\n",
       "</table>\n",
       "</div>"
      ],
      "text/plain": [
       "   is_buy    price     size  processing_time\n",
       "0   False  21447.7  21447.7       1657993009\n",
       "1   False  21454.1  21454.1       1657993009\n",
       "2   False  21464.8  21464.8       1657993009\n",
       "3   False  21477.8  21477.8       1657993009\n",
       "4   False  21479.9  21479.9       1657993009"
      ]
     },
     "execution_count": 73,
     "metadata": {},
     "output_type": "execute_result"
    }
   ],
   "source": [
    "df = pd.DataFrame(orders)\n",
    "df.head()"
   ]
  },
  {
   "cell_type": "code",
   "execution_count": 67,
   "id": "8e55590d",
   "metadata": {},
   "outputs": [],
   "source": [
    "a = (time.time())"
   ]
  },
  {
   "cell_type": "code",
   "execution_count": 69,
   "id": "0929f5c7",
   "metadata": {},
   "outputs": [
    {
     "data": {
      "text/plain": [
       "float"
      ]
     },
     "execution_count": 69,
     "metadata": {},
     "output_type": "execute_result"
    }
   ],
   "source": [
    "type(a)"
   ]
  },
  {
   "cell_type": "code",
   "execution_count": 74,
   "id": "15ca3561",
   "metadata": {},
   "outputs": [
    {
     "ename": "NameError",
     "evalue": "name 'market' is not defined",
     "output_type": "error",
     "traceback": [
      "\u001b[1;31m---------------------------------------------------------------------------\u001b[0m",
      "\u001b[1;31mNameError\u001b[0m                                 Traceback (most recent call last)",
      "Input \u001b[1;32mIn [74]\u001b[0m, in \u001b[0;36m<cell line: 1>\u001b[1;34m()\u001b[0m\n\u001b[1;32m----> 1\u001b[0m \u001b[43mmarket\u001b[49m\n",
      "\u001b[1;31mNameError\u001b[0m: name 'market' is not defined"
     ]
    }
   ],
   "source": [
    "market"
   ]
  },
  {
   "cell_type": "code",
   "execution_count": null,
   "id": "bdb7c15a",
   "metadata": {},
   "outputs": [],
   "source": []
  }
 ],
 "metadata": {
  "kernelspec": {
   "display_name": "Python 3 (ipykernel)",
   "language": "python",
   "name": "python3"
  },
  "language_info": {
   "codemirror_mode": {
    "name": "ipython",
    "version": 3
   },
   "file_extension": ".py",
   "mimetype": "text/x-python",
   "name": "python",
   "nbconvert_exporter": "python",
   "pygments_lexer": "ipython3",
   "version": "3.8.13"
  }
 },
 "nbformat": 4,
 "nbformat_minor": 5
}
